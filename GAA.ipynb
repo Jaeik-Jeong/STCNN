{
  "nbformat": 4,
  "nbformat_minor": 0,
  "metadata": {
    "colab": {
      "name": "STCNN_GAA_Ny.ipynb",
      "provenance": [],
      "collapsed_sections": [],
      "mount_file_id": "1_4pe3d2BmEnl5-sDi_iSwiFtOD_qEbMd",
      "authorship_tag": "ABX9TyN92//Xk+8dkSpiyPEAd5uk"
    },
    "kernelspec": {
      "name": "python3",
      "display_name": "Python 3"
    }
  },
  "cells": [
    {
      "cell_type": "code",
      "metadata": {
        "id": "UbBUK5nfKpmR"
      },
      "source": [
        "import glob; import re\n",
        "import pandas as pd\n",
        "import numpy as np"
      ],
      "execution_count": null,
      "outputs": []
    },
    {
      "cell_type": "code",
      "metadata": {
        "id": "a9RwhBwg0RcO"
      },
      "source": [
        "address = \"\"\r\n",
        "all_files = glob.glob(address+'Data_Ny/*.csv')\r\n",
        "data_csv = pd.read_csv(all_files[0], index_col=0)"
      ],
      "execution_count": null,
      "outputs": []
    },
    {
      "cell_type": "code",
      "metadata": {
        "id": "DdDbjGTlGVys"
      },
      "source": [
        "# Greedy Adjoining Algorithm (GAA)\n",
        "\n",
        "site_no = len(all_files)\n",
        "\n",
        "location = [0 for _ in range(site_no)]\n",
        "for i in range(site_no):\n",
        "    location[i] = [float(re.findall('\\d+.\\d+', all_files[i])[0]), float(re.findall('\\d+.\\d+', all_files[i])[1])]\n",
        "\n",
        "distance = np.zeros((site_no,site_no))\n",
        "for i in range(site_no):\n",
        "    for j in range(site_no):\n",
        "        distance[i][j] = np.linalg.norm(np.array(location[i]) - np.array(location[j]))\n",
        "\n",
        "distance_sum = np.zeros((site_no,1))\n",
        "for i in range(site_no):\n",
        "    distance_sum[i] = sum(distance[i,:])\n",
        "\n",
        "site_unselect = list(range(site_no))\n",
        "site_sort = [0 for _ in range(site_no)]\n",
        "\n",
        "site_sort[0] = np.argmax(distance_sum)\n",
        "for i in range(1,site_no):\n",
        "    site_unselect.remove(site_sort[i-1])\n",
        "    site_sort[i] = site_unselect[np.argmin(distance[site_sort[i-1],site_unselect])]"
      ],
      "execution_count": null,
      "outputs": []
    },
    {
      "cell_type": "code",
      "metadata": {
        "id": "x96JIX5UMAir"
      },
      "source": [
        "# Data Preprocessing\n",
        "\n",
        "data_csv.columns = [0]\n",
        "\n",
        "capacity = [0 for _ in range(site_no)]\n",
        "for i in range(site_no):\n",
        "    capacity[i] = int(re.findall('\\d+', all_files[i])[5])\n",
        "    DF = pd.read_csv(all_files[i], index_col=0)\n",
        "    if i != 0:\n",
        "        data_csv[i] = DF['Power(MW)']\n",
        "\n",
        "data_unit = 12 # Time resolution (unit : 5 minute)\n",
        "data_size = int(len(data_csv)/data_unit)\n",
        "\n",
        "data = np.zeros((site_no, data_size))\n",
        "for k in range(site_no):\n",
        "    for i in range(data_size):\n",
        "        j = i*data_unit\n",
        "        data[k][i] = (pd.Series.mean(data_csv[site_sort[k]][j:j+data_unit])/capacity[site_sort[k]])\n",
        "\n",
        "#pd.DataFrame(data).to_csv(address+'Data_Ny.csv')"
      ],
      "execution_count": null,
      "outputs": []
    }
  ]
}
